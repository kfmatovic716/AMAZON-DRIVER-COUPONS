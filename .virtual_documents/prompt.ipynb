








import matplotlib.pyplot as plt
import seaborn as sns
import pandas as pd
import numpy as np
import plotly.express as px





data = pd.read_csv('data/coupons.csv')


data





# Look at number of rows/columns, summary statistics and data types (total counts of numberical/categorical)
print("The data has {} rows and {} columns".format(data.shape[0], data.shape[1]))
display(data.describe())
display(data.dtypes.value_counts())





# Separating numerical and categorical variables
category_vars = data.columns[data.dtypes == 'object']
numeric_vars = data.columns[data.dtypes != 'object']

print(category_vars)
print(numeric_vars)


# Get % on missing values in each column of the numerical  
data[numeric_vars].isnull().sum().sort_values(ascending=False)/len(data)


# Get counts on missing values in each column of the categorical data
data[category_vars].isnull().sum().sort_values(ascending=False)


# Number of original data who accepted/not accepted coupons
data['Y'].value_counts()


# Get % of missing values in the categorical data
data[category_vars].isnull().sum().sort_values(ascending=False)/len(data)


# Total number of missing data by column
data[category_vars].isnull().sum().sort_values(ascending=False)





# Examine the categories in column car that has data
data['car'].value_counts()





# Explore missing data on CoffeeHouse: Number of times 
coffeehouse_missing = data[data['CoffeeHouse'].isnull() == True]
coffeehouse_missing





rest20To50_missing = data[data['Restaurant20To50'].isnull() == True]
rest20To50_missing





carryaway_missing = data[data['CarryAway'].isnull() == True]
carryaway_missing





rest_lt20_missing = data[data['RestaurantLessThan20'].isnull() == True]
rest_lt20_missing





bar_missing = data[data['Bar'].isnull() == True]
bar_missing








# Create a new df without the "car" column
new_df = data.drop("car", axis=1)
new_df


# Confirm car column was deleted; Result should be 25 columns
print(new_df.shape)
new_df.columns


# Execute the dropping of all missing data as noted above with ***
final_df = new_df.dropna()
final_df


print("The final data has {} rows and {} columns".format(final_df.shape[0], final_df.shape[1]))
display(final_df.dtypes.value_counts())





# Confirmation no more missing data in the final data
final_df.isnull().sum()





# Get proportions of coupon acceptance (Y=1: accepted, Y=0: not accepted)
coupon_acceptance = final_df['Y'].value_counts()
coupon_acceptance


# Proportion of user accepting the coupon
accepted = coupon_acceptance[1]/len(final_df)
accepted





final_df['coupon'].value_counts()


# shows the total number of coupons by type of coupon
px.bar(final_df['coupon'].value_counts(), x="coupon")






final_df["temperature"].value_counts()


px.histogram(final_df["temperature"])





# Select data with customers getting Bar coupons
Bar = final_df.query('coupon=="Bar"')
Bar


# Total Bar coupons given out to a customer
Bar.shape[0]


# Accepted Bar coupons
Bar_accepted = final_df[(final_df['coupon'] == 'Bar') & (final_df['Y'] == 1)]
Bar_accepted


Bar_accepted.shape[0]





# Percent of Bar coupons accepted
pct_bar_coupons_accepted = Bar_accepted.shape[0]/Bar.shape[0]
pct_bar_coupons_accepted








# Among the customers who have accepted the bar coupons, these categories represent the frequency of a customer goes to a Bar 
# i.e. there are 33 customers who accepted the Bar coupon who goes to the bar more than 8 times in a month
Bar_accepted['Bar'].value_counts()


# Total number of customers who visited the bar more than 3 times
morethan3_bar_visits = Bar_accepted["Bar"].value_counts()["4~8"] + Bar_accepted["Bar"].value_counts()["gt8"]
morethan3_bar_visits


# Total number of customers who visited the bar <= 3 times
freq = ['never', 'less1', '1~3']

fewer_bar_visits = Bar_accepted.query('Bar in @freq')
fewer_bar_visits


# acceptance rate of those who went to a bar 3 or fewer times a month
fewerBar_AR = fewer_bar_visits.shape[0] / Bar_accepted.shape[0]
fewerBar_AR


# acceptance rate for customers who have visited the bar more than 3 times
pct_gt8_barvisits = 1 - fewerBar_AR
pct_gt8_barvisits


# Visual to show which ages does bar coupons appeal to
px.histogram(fewer_bar_visits['age'].sort_values(), x='age', color_discrete_sequence=['darkblue'])








Indexed_Bar_accepted = Bar_accepted.set_index('Bar')
Indexed_Bar_accepted


Indexed_Bar_accepted.shape[0]


# Total number of drivers who go to a bar more than once a month and all ages
barAccepted_gt1_allages = Indexed_Bar_accepted.loc[['1~3', '4~8', 'gt8'], ['age']].value_counts()
barAccepted_gt1_allages


# Total number of drivers who go to a bar more than once a month and ages over 25
barAccepted_gt1_over25 = barAccepted_gt1_allages[0:7].sum()
barAccepted_gt1_over25


# Percentage of drivers who go to a bar more than once a month and ages over 25
pct_gt1_over25 = barAccepted_gt1_over25 / Indexed_Bar_accepted.shape[0]
pct_gt1_over25


allothers_pct = 1-pct_gt1_over25
allothers_pct








# Drivers who go to bars gt once a month and had no kid passenger
groups = ['1~3', '4~8', 'gt8']
passengers = ['Alone', 'Friend(s)', 'Partner']

Bar_gt1mo_noKids = Bar_accepted.query("Bar in @groups and passanger in @passengers")
Bar_gt1mo_noKids


Bar_gt1mo_noKids.shape[0]


# Check if there are occupations in farming, fishing, or forestry. There is none. Therefore, Bar_gt1mo_noKids is the df for #7
Bar_gt1mo_noKids['occupation'].value_counts()


# Look what ages are customers in this group
Bar_gt1mo_noKids['age'].value_counts()


# Percent of Drivers who go to bars gt once a month and had no kid passenger and not working in farm, forest or fishing
pct_Bar_gt1mo_noKids = Bar_gt1mo_noKids.shape[0] / Bar_accepted.shape[0]
pct_Bar_gt1mo_noKids








# Check if Bar_gt1mo_noKids df have any widowed marital status; Since no widowed in this group, use this df
Bar_gt1mo_noKids['maritalStatus'].value_counts()





# The number of passengers who go to bars more than once a month and are under age 30
under30 = ['21', '26', 'below21']
groups = ['1~3', '4~8', 'gt8']

Bar_gt1mo_age30 = Bar_accepted.query('Bar in @groups and age in @under30')
Bar_gt1mo_age30


# Percent of Drivers who go to bars gt once a month and under the age of 30 
pct_gt1mo_under30 = Bar_gt1mo_age30.shape[0] / Bar_accepted.shape[0]
pct_gt1mo_under30





# Select data with customers getting coupons to cheap restaurant
cheap_Restnt = final_df.query('coupon =="Restaurant(<20)"')
cheap_Restnt


# Accepted coupons for less expensive restaurants
cheapRestnt_accepted = final_df[(final_df['coupon'] == 'Restaurant(<20)') & (final_df['Y'] == 1)]
cheapRestnt_accepted


cheapRestnt_accepted.shape[0]


# Acceptance rate of less expensive restaurant coupons
pct_cheapRestnt_accepted = cheapRestnt_accepted.shape[0] / cheap_Restnt.shape[0]
pct_cheapRestnt_accepted


# Examine age data and look at counts for each age reported
cheapRestnt_accepted['income'].value_counts()


# Examine data of RestaurantLessThan20 and look at each category
cheapRestnt_accepted['RestaurantLessThan20'].value_counts()


# The number of passenger who go to cheap restaurants more than 4 times a month and income is less than 50K.
income_lt50 = ['$25000 - $37499', '$12500 - $24999', '$37500 - $49999', 'Less than $12500']
groups_gt4x = ['4~8', 'gt8']

cheapRestnt_gt4x_inclt50 = cheapRestnt_accepted.query('RestaurantLessThan20 in @groups_gt4x and income in @income_lt50')
cheapRestnt_gt4x_inclt50


# Acceptance Rate of passengers who goes to cheap restaurant more than 4 times a month and income less than 50K
pct_cheapRestnt_gt4x_inclt50 = cheapRestnt_gt4x_inclt50.shape[0] / cheapRestnt_accepted.shape[0]
pct_cheapRestnt_gt4x_inclt50



























